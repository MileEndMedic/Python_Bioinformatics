{
 "cells": [
  {
   "cell_type": "markdown",
   "metadata": {},
   "source": [
    "# Python Primer for Bioinformatics"
   ]
  },
  {
   "cell_type": "markdown",
   "metadata": {},
   "source": [
    "Full name: Usama Khan\n",
    "\n",
    "Grade achieved: 98%"
   ]
  },
  {
   "cell_type": "markdown",
   "metadata": {},
   "source": [
    "\n",
    "## Deadline and submission\n",
    "\n",
    "Complete this notebook with your code, compress it and submit it as a single .zip or .gz file through the QMPlus page by the following deadline:\n",
    "\n",
    "    Friday Nov 3rd 2023, 16:00\n"
   ]
  },
  {
   "cell_type": "markdown",
   "metadata": {},
   "source": [
    "## Preliminary reading\n",
    "\n",
    "Please read the PDF file ```BIO723P_Assignment_Background.pdf``` distributed with this assigment carefully before you start coding."
   ]
  },
  {
   "cell_type": "markdown",
   "metadata": {},
   "source": [
    "# Question 1: Primers and melting temperature"
   ]
  },
  {
   "cell_type": "markdown",
   "metadata": {},
   "source": [
    "### Question 1.a: Reading a DNA sequence from a file\n",
    "\n",
    "Write a python function called ```readDNAsequence``` that takes as its argument the name of a file.  When passed the name of a FASTA file, the function should read the file, discard the header and return the sequence as a string. Your code should raise ```BadSequenceException``` (defined below) if the sequence part of the file contains characters that are not one of the letters A, C, T, G, U. All U nucleotides should be replaced by T in the returned string (for simplicity, we will be working with T only throughout the rest of this assignment)."
   ]
  },
  {
   "cell_type": "code",
   "execution_count": 1,
   "metadata": {},
   "outputs": [],
   "source": [
    "# Run this cell to define the exception\n",
    "class BadSequenceException(Exception):\n",
    "    pass"
   ]
  },
  {
   "cell_type": "code",
   "execution_count": 2,
   "metadata": {},
   "outputs": [],
   "source": [
    "# Your code here\n",
    "# Your code here\n",
    "# Defining our sequence which we are calling readDNAsequence.\n",
    "# The argument will be a FASTA filename.\n",
    "def readDNAsequence(filename):\n",
    "    with open(filename, 'r') as file:\n",
    "        lines = file.readlines()\n",
    "\n",
    "        # Assuming that the first line is the header-skip\n",
    "        sequence_lines = lines[1:]\n",
    "\n",
    "        # Join the sequences, remove newlines, and replace U with T (case-insensitive)\n",
    "        content = ''.join(sequence_lines).replace('\\n', '').replace('U', 'T').replace('u', 't').upper()\n",
    "\n",
    "        # Check for invalid DNA characters\n",
    "        # If no invalid characters were found, return the sequence.\n",
    "        # The 'sequence' is a string that contains the DNA sequence read from the file,\n",
    "        # with all occurrences of 'U' replaced with 'T', all line endings removed,\n",
    "        # and all characters converted to uppercase.\n",
    "        # This sequence is then available to be used by the code that called this function.\n",
    "        if any(char not in 'ACGT' for char in content):\n",
    "            raise BadSequenceException(f\"Invalid DNA character found: {char}\")\n",
    "\n",
    "        return content"
   ]
  },
  {
   "cell_type": "code",
   "execution_count": 3,
   "metadata": {},
   "outputs": [
    {
     "name": "stdout",
     "output_type": "stream",
     "text": [
      "OK\n"
     ]
    }
   ],
   "source": [
    "# Test code\n",
    "import os\n",
    "with open(\"test9876345.fas\", \"wt\") as _OUTF:\n",
    "    _OUTF.write(\"> test\\n\")\n",
    "    _OUTF.write(\"ACTG\\n\")\n",
    "_seq=readDNAsequence(\"test9876345.fas\")\n",
    "assert type(_seq) is type(\"\"), \"Return value is not a string: %r\" % _seq\n",
    "os.remove(\"test9876345.fas\")\n",
    "print(\"OK\")"
   ]
  },
  {
   "cell_type": "markdown",
   "metadata": {},
   "source": [
    "### Question 1.b: Computing the complement of a sequence"
   ]
  },
  {
   "cell_type": "markdown",
   "metadata": {},
   "source": [
    "Write a function called ```complement``` that takes a string containing a DNA sequence as its only  parameter and returns the complement of the sequence in a string. The function should raise ```BadSequenceException``` if the argument sequence contains anything else than the four characters A, C, T, G. Do not reverse the string; for the avoidance of doubt, if the input string starts with A then the complement string should start with T.\n"
   ]
  },
  {
   "cell_type": "code",
   "execution_count": 4,
   "metadata": {},
   "outputs": [],
   "source": [
    "# Your code here\n",
    "# Writing a function called complement, that \n",
    "# takes a DNA sequence\n",
    "def complement(sequence):\n",
    "    # This dictionary defines the complement for each nucleotide\n",
    "    complement_dict = {'A': 'T', 'T': 'A', 'C': 'G', 'G': 'C'}\n",
    "    \n",
    "    # Initialise an empty string to build the complement sequence\n",
    "    complement_sequence = ''\n",
    "    \n",
    "    # Iterate over each nucleotide in the input sequence\n",
    "    for nucleotide in sequence:\n",
    "        # If the nucleotide is not one of the valid characters, raise an exception\n",
    "        if nucleotide not in complement_dict:\n",
    "            raise BadSequenceException(f\"Invalid DNA character found: {nucleotide}\")\n",
    "        # Append the complement of the nucleotide to the complement sequence\n",
    "        complement_sequence += complement_dict[nucleotide]\n",
    "    \n",
    "    # Return the complement sequence\n",
    "    return complement_sequence"
   ]
  },
  {
   "cell_type": "code",
   "execution_count": 5,
   "metadata": {},
   "outputs": [
    {
     "name": "stdout",
     "output_type": "stream",
     "text": [
      "OK\n"
     ]
    }
   ],
   "source": [
    "# Test code\n",
    "_seq=complement(\"ACGTTTCG\")\n",
    "assert type(_seq) is type(\"\"), \"Return value is not a string: %r\" % _seq\n",
    "print(\"OK\")"
   ]
  },
  {
   "cell_type": "markdown",
   "metadata": {},
   "source": [
    "### Question 1.c: Extracting primers"
   ]
  },
  {
   "cell_type": "markdown",
   "metadata": {
    "collapsed": true,
    "jupyter": {
     "outputs_hidden": true
    }
   },
   "source": [
    "Write a function called ```primer``` that takes three parameters: a DNA sequence called ```sequence```, an integer ```length``` that is 20 by default and a Boolean value ```forward``` that is ```True``` by default. When ```forward``` is ```True``` (or is not passed), the function should return a Forward primer for the sequence passed as ```sequence```; when it is ```False```, it should return a  Reverse primer. The length of the primer is specified by ```length```; if this is not passed, a primer of length 20 should be returned.  Refer to the Background document for a definition of primers and how to compute them (for the avoidance of doubt, if the sequence string ends with a C, then the reverse primer string should start with a G). If the sequence is shorter than ```length``` nucleotides, your code should raise a ```BadSequenceException```.\n"
   ]
  },
  {
   "cell_type": "code",
   "execution_count": 6,
   "metadata": {},
   "outputs": [],
   "source": [
    "# Your code here\n",
    "# Let us begin to define a function called primer.\n",
    "# primer takes Sequence, Length, and Forward as inputs/arguments.\n",
    "# Length is set to 20 by default. Forward is True by default.\n",
    "# Define the primer function which uses the complement function from 1b\n",
    "def primer(sequence, length=20, forward=True):\n",
    "    # Check if the sequence is shorter than the requested primer length.\n",
    "    # If so, we raise an exception.\n",
    "    if len(sequence) < length:\n",
    "        raise BadSequenceException(f\"Sequence length is shorter than the requested primer length of {length} nucleotides.\")\n",
    "    \n",
    "    if forward:\n",
    "        return sequence[:length]\n",
    "    else:\n",
    "        reverse_sequence = sequence[-length:][::-1]\n",
    "        return complement(reverse_sequence)"
   ]
  },
  {
   "cell_type": "code",
   "execution_count": 7,
   "metadata": {},
   "outputs": [
    {
     "name": "stdout",
     "output_type": "stream",
     "text": [
      "OK\n"
     ]
    }
   ],
   "source": [
    "# Test code\n",
    "_seq=primer(sequence=\"AAAAATTTTTCCCCCGGGGGAAAAA\", length= 20, forward=False)\n",
    "assert type(_seq) is type(\"\"), \"Return value is not a string: %r\" % _seq\n",
    "print(\"OK\")"
   ]
  },
  {
   "cell_type": "markdown",
   "metadata": {},
   "source": [
    "### Question 1.d: Computing the melting temperature"
   ]
  },
  {
   "cell_type": "markdown",
   "metadata": {},
   "source": [
    "Write a function called ```meltingTemp``` that takes a string representing a primer as its argument. The function should return the melting temperature of the primer in degrees Celsius according to the equation given in the Background document. If the sequence contains characters other than A, C, T, G, the function should raise a ```BadSequenceException```."
   ]
  },
  {
   "cell_type": "code",
   "execution_count": 8,
   "metadata": {},
   "outputs": [],
   "source": [
    "# Your code here\n",
    "# Write a function called meltingTemp that takes a string representing a primer as its argument.\n",
    "def meltingTemp(primer):\n",
    "    primer = primer.upper()  # Convert to uppercase\n",
    "    invalid_chars = []  # List to store any invalid characters found\n",
    "\n",
    "    # Check for invalid characters\n",
    "    for nucleotide in primer:\n",
    "        if nucleotide not in 'ATGC':\n",
    "            invalid_chars.append(nucleotide)\n",
    "\n",
    "    # If any invalid characters were found, raise an exception listing all of them\n",
    "    if invalid_chars:\n",
    "        raise BadSequenceException(f\"Invalid characters found: {', '.join(invalid_chars)}\")\n",
    "\n",
    "    # Count the occurrences of each nucleotide type\n",
    "    count_A = primer.count('A')\n",
    "    count_T = primer.count('T')\n",
    "    count_G = primer.count('G')\n",
    "    count_C = primer.count('C')\n",
    "\n",
    "    # Calculate melting temperature using the given formula\n",
    "    Tm = 4 * (count_G + count_C) + 2 * (count_A + count_T)\n",
    "    return Tm"
   ]
  },
  {
   "cell_type": "code",
   "execution_count": 9,
   "metadata": {},
   "outputs": [
    {
     "name": "stdout",
     "output_type": "stream",
     "text": [
      "OK\n"
     ]
    }
   ],
   "source": [
    "# Test code\n",
    "_temp=meltingTemp(\"AAAAATTTTTCCCCCGGGGG\")\n",
    "assert ((type(_temp) is type(0.0)) or\n",
    "        (type(_temp) is type(0))), \"Return value is not a number: %r\" % _temp\n",
    "print(\"OK\")"
   ]
  },
  {
   "cell_type": "markdown",
   "metadata": {},
   "source": [
    "### Question 1.e: Putting it all together\n",
    "\n",
    "Write a function called ```sequencePCRtemp``` that takes a string containing the name of a FASTA file as its argument. The function should return the average melting temperature of the two primers of the sequence as a ```float```."
   ]
  },
  {
   "cell_type": "code",
   "execution_count": 10,
   "metadata": {},
   "outputs": [],
   "source": [
    "# Your code here\n",
    "# Write a function called sequencePCRtemp\n",
    "# FASTA file as argument\n",
    "def sequencePCRtemp(fasta_filename):\n",
    "    # Read the sequence from the FASTA file\n",
    "    sequence = readDNAsequence(fasta_filename)\n",
    "    # Extracting fwd primer\n",
    "    forward_primer = primer(sequence, length=20, forward=True)\n",
    "    # Extracting reverse primer\n",
    "    reverse_primer = primer(sequence, length=20, forward=False)\n",
    "    # Compute melting temperatures for primers\n",
    "    forward_temp = meltingTemp(forward_primer)\n",
    "    reverse_temp = meltingTemp(reverse_primer)\n",
    "    # Calculate average melting temperature of primers\n",
    "    average_temp = (forward_temp + reverse_temp) / 2\n",
    "    return average_temp"
   ]
  },
  {
   "cell_type": "code",
   "execution_count": 11,
   "metadata": {},
   "outputs": [
    {
     "name": "stdout",
     "output_type": "stream",
     "text": [
      "OK\n"
     ]
    }
   ],
   "source": [
    "# Test code\n",
    "import os\n",
    "with open(\"test9876346.fas\", \"wt\") as _OUTF:\n",
    "    _OUTF.write(\"> test\\n\")\n",
    "    _OUTF.write(\"AAAAACCCCCTTTTTGGGGGAAAAA\\n\")\n",
    "_temp=sequencePCRtemp(\"test9876346.fas\")\n",
    "assert type(_temp) is type(0.0), \"Return value is not a float: %r\" % _temp\n",
    "os.remove(\"test9876346.fas\")\n",
    "print(\"OK\")"
   ]
  },
  {
   "cell_type": "markdown",
   "metadata": {},
   "source": [
    "# Question 2: Translation and reading frames"
   ]
  },
  {
   "cell_type": "markdown",
   "metadata": {},
   "source": [
    "### Question 2.a: Reading frames\n",
    "Write a function ```translate``` that takes a string containing a DNA sequence as its input and outputs a Python dictionary containing the translation of the sequence in all possible reading frames. The keys of the dictionary should be ```f1```, ```f2```, ```f3``` for the three forward frames and ```r1```, ```r2``` and ```r3``` for the reverse reading frames; the value of each key should be the translation of the sequence in the corresponding frame.\n",
    "For simplicity and ease of debugging, **do not complement the sequence** when computing the reverse reading frames; just reverse it. Use an asterisk (```*```) to represent stop codons. Always translate the entire sequence."
   ]
  },
  {
   "cell_type": "code",
   "execution_count": 12,
   "metadata": {},
   "outputs": [],
   "source": [
    "# Your code here\n",
    "from typing import Dict\n",
    "\n",
    "# Creating a codon table since the process of translation\n",
    "# will require a reference point for our DNA sequence\n",
    "CODON_TABLE: Dict[str, str] = {\n",
    "    \"AAA\": \"K\", \"AAC\": \"N\", \"AAG\": \"K\", \"AAT\": \"N\",\n",
    "    \"ACA\": \"T\", \"ACC\": \"T\", \"ACG\": \"T\", \"ACT\": \"T\",\n",
    "    \"AGA\": \"R\", \"AGC\": \"S\", \"AGG\": \"R\", \"AGT\": \"S\",\n",
    "    \"ATA\": \"I\", \"ATC\": \"I\", \"ATG\": \"M\", \"ATT\": \"I\",\n",
    "    \"CAA\": \"Q\", \"CAC\": \"H\", \"CAG\": \"Q\", \"CAT\": \"H\",\n",
    "    \"CCA\": \"P\", \"CCC\": \"P\", \"CCG\": \"P\", \"CCT\": \"P\",\n",
    "    \"CGA\": \"R\", \"CGC\": \"R\", \"CGG\": \"R\", \"CGT\": \"R\",\n",
    "    \"CTA\": \"L\", \"CTC\": \"L\", \"CTG\": \"L\", \"CTT\": \"L\",\n",
    "    \"GAA\": \"E\", \"GAC\": \"D\", \"GAG\": \"E\", \"GAT\": \"D\",\n",
    "    \"GCA\": \"A\", \"GCC\": \"A\", \"GCG\": \"A\", \"GCT\": \"A\",\n",
    "    \"GGA\": \"G\", \"GGC\": \"G\", \"GGG\": \"G\", \"GGT\": \"G\",\n",
    "    \"GTA\": \"V\", \"GTC\": \"V\", \"GTG\": \"V\", \"GTT\": \"V\",\n",
    "    \"TAA\": \"*\", \"TAG\": \"*\", \"TGA\": \"*\",\n",
    "    \"TAC\": \"Y\", \"TAT\": \"Y\",\n",
    "    \"TCA\": \"S\", \"TCC\": \"S\", \"TCG\": \"S\", \"TCT\": \"S\",\n",
    "    \"TGC\": \"C\", \"TGG\": \"W\", \"TGT\": \"C\",\n",
    "    \"TTA\": \"L\", \"TTC\": \"F\", \"TTG\": \"L\", \"TTT\": \"F\"\n",
    "}\n",
    "\n",
    "def translate(dna_sequence: str) -> Dict[str, str]:\n",
    "    # Despite instruction that we will only recieve\n",
    "    #upper case sequence, inserting function just \n",
    "    # for completeness.\n",
    "    dna_sequence = dna_sequence.upper()\n",
    "\n",
    "    # Generate the three forward and three reverse reading frames \n",
    "    # directly from the DNA sequence\n",
    "    frames = {\n",
    "        'f1': dna_sequence,\n",
    "        'f2': dna_sequence[1:],  # Remove first nucleotide\n",
    "        'f3': dna_sequence[2:],  # Remove first two nucleotide\n",
    "        'r1': dna_sequence[::-1],  # Reverse sequence\n",
    "        'r2': dna_sequence[-2::-1],  # Reverse removing the first nucleotide\n",
    "        'r3': dna_sequence[-3::-1],  # Reverse removing the first two nucleotide\n",
    "    }\n",
    "\n",
    "    # Translate reading frames by cross referencing our codon table\n",
    "    translated_frames = {}\n",
    "    for frame_label, frame_sequence in frames.items():\n",
    "        protein_sequence = \"\"\n",
    "        for i in range(0, len(frame_sequence), 3):\n",
    "            codon = frame_sequence[i:i+3]\n",
    "            if len(codon) == 3:  \n",
    "                amino_acid = CODON_TABLE.get(codon, '?') \n",
    "                protein_sequence += amino_acid\n",
    "        translated_frames[frame_label] = protein_sequence\n",
    "\n",
    "    return translated_frames"
   ]
  },
  {
   "cell_type": "code",
   "execution_count": 13,
   "metadata": {},
   "outputs": [
    {
     "name": "stdout",
     "output_type": "stream",
     "text": [
      "OK\n"
     ]
    }
   ],
   "source": [
    "# Test code\n",
    "_seqdic=translate(\"ACTGACTGACTGACTGACTGACTG\")\n",
    "assert type(_seqdic)==type(dict()), \"Return value is not a dictionary: %r\" % _seqdic\n",
    "assert set(_seqdic.keys())==set(['f1', 'f2', 'f3', 'r1', 'r2', 'r3']), \\\n",
    "    \"Output dictionary has incorrect/missing keys: %r\"  % _seqdic.keys()\n",
    "assert type(_seqdic['f1'])==type(\"\"), \\\n",
    "    \"Output dictionary values should be strings, not %r\" % type(_seqdic['f1'])\n",
    "print(\"OK\")"
   ]
  },
  {
   "cell_type": "markdown",
   "metadata": {},
   "source": [
    "### Question 2.b: Locating an ORF\n",
    "\n",
    "Write a function called ```openReadingFrame``` that takes a string containing an aminoacid sequence as its argument and returns a string containing the aminoacids between the first Methionine (included) and the first STOP codon that follows it (excluded). Assume the stop codon is represented by an asterisk (```*```) as would be returned by ```translate``` above. If either the Methionine or the STOP codon are missing, your function should return an empty string."
   ]
  },
  {
   "cell_type": "code",
   "execution_count": 14,
   "metadata": {},
   "outputs": [],
   "source": [
    "# Your code here\n",
    "# Write a function called openReadingFrame (ORF)\n",
    "#Function should take aminoacid sequence as argument\n",
    "def openReadingFrame(amino_acid_sequence: str) -> str:\n",
    "    # Find the index of the first 'M' in the sequence\n",
    "    start_index = amino_acid_sequence.find('M')\n",
    "    \n",
    "    # No 'M'? return an empty string\n",
    "    if start_index == -1:\n",
    "        return \"\"\n",
    "    \n",
    "    # Find the index of the first '*' after the 'M'\n",
    "    stop_index = amino_acid_sequence.find('*', start_index)\n",
    "    \n",
    "    # If there is no '*', return an empty string\n",
    "    if stop_index == -1:\n",
    "        return \"\"\n",
    "    \n",
    "    # Return the sequence from the 'M' to just before the '*'\n",
    "    return amino_acid_sequence[start_index:stop_index]"
   ]
  },
  {
   "cell_type": "code",
   "execution_count": 15,
   "metadata": {},
   "outputs": [
    {
     "name": "stdout",
     "output_type": "stream",
     "text": [
      "OK\n"
     ]
    }
   ],
   "source": [
    "# Test code\n",
    "_seq=openReadingFrame(\"AMCAPP*L\")\n",
    "assert type(_seq) is type(\"\"), \"Return value is not a string: %r\" % _seq\n",
    "print(\"OK\")"
   ]
  },
  {
   "cell_type": "markdown",
   "metadata": {},
   "source": [
    "### Question 2.c: Translating a sequence\n",
    "\n",
    "Write a function called ```candidateProtein``` that takes a string containing a DNA sequence as its input and outputs the string of aminoacids corresponding to the longest ORF, as extracted by ```openReadingFrame``` above."
   ]
  },
  {
   "cell_type": "code",
   "execution_count": 16,
   "metadata": {},
   "outputs": [],
   "source": [
    "#Write a function called candidateProtein\n",
    "#Argument of function will be a dna_sequence\n",
    "def candidateProtein(dna_sequence: str) -> str:\n",
    "\n",
    "    # Calling on our previous translate function to get our reading frames\n",
    "    translated_frames = translate(dna_sequence)\n",
    "    \n",
    "    # Initialise an empty string which will hold our longest protein\n",
    "    longest_protein = \"\"\n",
    "\n",
    "    # Loop through the translated frames and get the openreadingframe (ORF) for each frame\n",
    "    for frame_sequence in translated_frames.values():\n",
    "        orf = openReadingFrame(frame_sequence)\n",
    "        \n",
    "        # Compare the length of the current ORF to the longest protein\n",
    "        #update longest protein if necessary\n",
    "        if len(orf) > len(longest_protein):\n",
    "            longest_protein = orf\n",
    "\n",
    "    # Return the longest protein\n",
    "    return longest_protein"
   ]
  },
  {
   "cell_type": "code",
   "execution_count": 17,
   "metadata": {},
   "outputs": [
    {
     "name": "stdout",
     "output_type": "stream",
     "text": [
      "OK\n"
     ]
    }
   ],
   "source": [
    "# Test code\n",
    "_seq=candidateProtein(\"ATGACTGCTGGGTAG\")\n",
    "assert type(_seq) is type(\"\"), \"Return value is not a string: %r\" % _seq\n",
    "print(\"OK\")"
   ]
  },
  {
   "cell_type": "markdown",
   "metadata": {},
   "source": [
    "### Question 2.d: Writing a FASTA file\n",
    "\n",
    "Write a function called ```writeFASTA``` that takes three string arguments called, in the order, ```sequence```, ```description``` and ```filename```. Argument ```sequence``` should contain an aminoacid sequence. Argument ```description``` should contain a description (eg name of protein, organism, etc). Argument ```filename``` should contain a file name. Your code should create the file with the name requested, write to  it the description as a FASTA header (i.e. starting with the character ```>```) and write the sequence to the file. Long sequences should be formatted over several lines. The function should not return any value."
   ]
  },
  {
   "cell_type": "code",
   "execution_count": 18,
   "metadata": {},
   "outputs": [],
   "source": [
    "# Your code here\n",
    "# Write a function called writeFASTA\n",
    "# Takes three string arguments (sequence, description, and filename)\n",
    "def writeFASTA(sequence: str, description: str, filename: str):\n",
    "    # Open the file for writing\n",
    "    with open(filename, \"w\") as f:\n",
    "        # Write the description line with a '>' prefix\n",
    "        f.write(\">%s\\n\" % description)\n",
    "        # Loop through the sequence in chunks of 20 characters\n",
    "        for i in range(0, len(sequence), 20):\n",
    "            # Write a chunk of 20 characters of the sequence to the file\n",
    "            f.write(sequence[i:i + 20] + \"\\n\")"
   ]
  },
  {
   "cell_type": "code",
   "execution_count": 19,
   "metadata": {},
   "outputs": [
    {
     "name": "stdout",
     "output_type": "stream",
     "text": [
      "OK\n"
     ]
    }
   ],
   "source": [
    "# Test code\n",
    "import os\n",
    "import os.path\n",
    "_rv=writeFASTA(sequence=\"TESTTESTTESTTESTTEST\",\n",
    "              description=\"test sequence\",\n",
    "              filename=\"test9876347.fas\")\n",
    "assert type(_rv) is type(None), \"Function should not return anything; it returns %r\" % _rv\n",
    "_fe=os.path.isfile(\"test9876347.fas\")\n",
    "assert _fe, \"Cannot find output file - has it been created?\"\n",
    "os.remove(\"test9876347.fas\")\n",
    "print(\"OK\")"
   ]
  },
  {
   "cell_type": "markdown",
   "metadata": {},
   "source": [
    "### Question 2.e: Putting it all together\n",
    "\n",
    "\n",
    "Write a function called ```maximalORF``` that takes as its argument string ```inputfile``` containing the name of an input file, string ```outputfile``` with the name of an output file and string  ```proteinname``` with a description of a candidate protein. The function should read a DNA sequence from the input file and write the candidate protein corresponding to the longest ORF to the output file, in FASTA format. The string supplied in ```proteinname``` should provide the header of the FASTA file. The function should not return any value."
   ]
  },
  {
   "cell_type": "code",
   "execution_count": 20,
   "metadata": {},
   "outputs": [],
   "source": [
    "# Your code here\n",
    "# Write a function called maximalORF (open reading frame)\n",
    "def maximalORF(inputfile: str, outputfile: str, proteinname: str):\n",
    "\n",
    "    # Read the DNA sequence from the input file.\n",
    "    with open(inputfile, \"r\") as f:\n",
    "        dna_sequence = f.read()\n",
    "\n",
    "    # Translate the DNA sequence into reading frames.\n",
    "    translated_frames = translate(dna_sequence)\n",
    "\n",
    "    # Identify the longest ORF in each reading frame.\n",
    "    longest_ORFs = {}\n",
    "    for frame_label, frame_sequence in translated_frames.items():\n",
    "        longest_ORFs[frame_label] = openReadingFrame(frame_sequence)\n",
    "\n",
    "    # compare lengths of longest ORFs -selecting the longest one.\n",
    "    longest_ORF = \"\"\n",
    "    for frame_label, orf in longest_ORFs.items():\n",
    "        if len(orf) > len(longest_ORF):\n",
    "            longest_ORF = orf\n",
    "\n",
    "    # Writing longest ORF to the output file in FASTA format.\n",
    "    writeFASTA(longest_ORF, proteinname, outputfile)"
   ]
  },
  {
   "cell_type": "code",
   "execution_count": 21,
   "metadata": {},
   "outputs": [
    {
     "name": "stdout",
     "output_type": "stream",
     "text": [
      "OK\n"
     ]
    }
   ],
   "source": [
    "# Test code\n",
    "import os\n",
    "import os.path\n",
    "with open(\"test9876348.fas\", \"wt\") as _OUTF:\n",
    "    _OUTF.write(\"> test\\n\")\n",
    "    _OUTF.write(\"ATGACTGCTGGGTAG\\n\")\n",
    "_rv=maximalORF(inputfile=\"test9876348.fas\", outputfile=\"test9876349.fas\",\n",
    "               proteinname=\"test protein\")\n",
    "assert type(_rv) is type(None), \"Function should not return anything; it returns %r\" % _rv\n",
    "_fe=os.path.isfile(\"test9876349.fas\")\n",
    "assert _fe, \"Cannot find output file - has it been created?\"\n",
    "os.remove(\"test9876348.fas\")\n",
    "os.remove(\"test9876349.fas\")\n",
    "print(\"OK\")"
   ]
  },
  {
   "cell_type": "markdown",
   "metadata": {},
   "source": [
    "# Question 3: Classification of aminoacids"
   ]
  },
  {
   "cell_type": "markdown",
   "metadata": {},
   "source": [
    "### Question 3.a: Reading an aminoacid sequence\n",
    "\n",
    "Write a function called ```readAAsequence``` that takes as its argument the name of a file.  When passed the name of a FASTA file containing an aminoacid sequence, the function should read the file, discard the header and return the sequence as a string."
   ]
  },
  {
   "cell_type": "code",
   "execution_count": 22,
   "metadata": {},
   "outputs": [],
   "source": [
    "# Your code here\n",
    "def readAAsequence(filename):\n",
    "    # Initialise an empty string to store the sequence.\n",
    "    sequence = \"\"\n",
    "    try:\n",
    "        # Open file.\n",
    "        with open(filename, 'r') as f:\n",
    "            # Iterate through each line.\n",
    "            for line in f:\n",
    "                # If the line starts with \">\"?- we skip it.\n",
    "                if line.startswith(\">\"):\n",
    "                    continue\n",
    "                sequence += line.strip()\n",
    "        return sequence\n",
    "    except FileNotFoundError:\n",
    "        return \"\""
   ]
  },
  {
   "cell_type": "code",
   "execution_count": 23,
   "metadata": {},
   "outputs": [
    {
     "name": "stdout",
     "output_type": "stream",
     "text": [
      "OK\n"
     ]
    }
   ],
   "source": [
    "# Test code\n",
    "import os\n",
    "with open(\"test9876350.fas\", \"wt\") as _OUTF:\n",
    "    _OUTF.write(\"> test\\n\")\n",
    "    _OUTF.write(\"TESTTESTTESTTESTTEST\\n\")\n",
    "_seq=readAAsequence(\"test9876350.fas\")\n",
    "os.remove(\"test9876350.fas\")\n",
    "assert type(_seq) is type(\"\"), \"Return value is not a string: %r\" % _seq\n",
    "print (\"OK\")"
   ]
  },
  {
   "cell_type": "markdown",
   "metadata": {},
   "source": [
    "### Question 3.b: Aminoacid usage statistics\n",
    "\n",
    "Write a function called ```AAtypes``` that takes as its argument a string containing a sequence of aminoacids. The function should compute, for each protein, the fraction of aminoacids that are polar, small and hydrophobic and return that as a list. For instance, if the chain of a protein contains 35% polar residues, 15% small and 50% hydrophobic residues, the function should return ```[0.35, 0.15, 0.5]``` (the order is important). Refer to the Venn diagram in the Assessment Background file for the classification of aminoacids (other Venn diagrams may differ).  Note that some aminoacids belong to more than one category, so that the sum of these three numbers can be larger than 1."
   ]
  },
  {
   "cell_type": "code",
   "execution_count": 24,
   "metadata": {},
   "outputs": [],
   "source": [
    "# Your code here\n",
    "# Write a function called AAtypes\n",
    "#argument? amino_acid_sequence\n",
    "\n",
    "def AAtypes(amino_acid_sequence):\n",
    "    #Classification of amino acids transcribed from venn diagram\n",
    "    Classification_of_Amino_Acids = {\n",
    "        'Polar': ['R', 'K', 'H', 'W', 'Y', 'E', 'N', 'S', 'T', 'D', 'Q', 'C'],\n",
    "        'Small': ['G', 'N', 'S', 'T', 'P', 'A', 'D', 'V', 'C'],\n",
    "        'Hydrophobic': ['F', 'W', 'Y', 'H', 'K', 'T', 'C', 'M', 'A', 'I', 'L', 'V']\n",
    "    }\n",
    "    \n",
    "    Length_of_amino_acid_sequence = len(amino_acid_sequence)\n",
    "    #Counting as the names of the functions below suggest\n",
    "    def Number_of_amino_acids_which_are_polar(sequence):\n",
    "        count = 0\n",
    "        for amino_acid in sequence:\n",
    "            if amino_acid in Classification_of_Amino_Acids['Polar']:\n",
    "                count += 1\n",
    "        return count\n",
    "    \n",
    "    def Number_of_amino_acids_which_are_Small(sequence):\n",
    "        count = 0\n",
    "        for amino_acid in sequence:\n",
    "            if amino_acid in Classification_of_Amino_Acids['Small']:\n",
    "                count += 1\n",
    "        return count\n",
    "    \n",
    "    def Number_of_amino_acids_which_are_Hydrophobic(sequence):\n",
    "        count = 0\n",
    "        for amino_acid in sequence:\n",
    "            if amino_acid in Classification_of_Amino_Acids['Hydrophobic']:\n",
    "                count += 1\n",
    "        return count\n",
    "    #Dividing our count of amino acid type by amino acid length gives us proportions\n",
    "    def Percentage_of_amino_acid_sequence_Polar(sequence):\n",
    "        return Number_of_amino_acids_which_are_polar(sequence) / Length_of_amino_acid_sequence\n",
    "\n",
    "    def Percentage_of_amino_acid_sequence_Small(sequence):\n",
    "        return Number_of_amino_acids_which_are_Small(sequence) / Length_of_amino_acid_sequence\n",
    "    \n",
    "    def Percentage_of_amino_acid_sequence_Hydrophobic(sequence):\n",
    "        return Number_of_amino_acids_which_are_Hydrophobic(sequence) / Length_of_amino_acid_sequence\n",
    "\n",
    "    result = [\n",
    "        Percentage_of_amino_acid_sequence_Polar(amino_acid_sequence),\n",
    "        Percentage_of_amino_acid_sequence_Small(amino_acid_sequence),\n",
    "        Percentage_of_amino_acid_sequence_Hydrophobic(amino_acid_sequence)\n",
    "    ]\n",
    "    return result"
   ]
  },
  {
   "cell_type": "code",
   "execution_count": 25,
   "metadata": {},
   "outputs": [
    {
     "name": "stdout",
     "output_type": "stream",
     "text": [
      "OK\n"
     ]
    }
   ],
   "source": [
    "# Test code\n",
    "_aatypes=AAtypes(\"TESTTESTTESTTESTTEST\")\n",
    "assert type(_aatypes) is type([]), \"Return value is not a list: %r\" % _aatypes\n",
    "assert len(_aatypes)==3, \"Returned list should contain 3 values\"\n",
    "print(\"OK\")"
   ]
  },
  {
   "cell_type": "markdown",
   "metadata": {},
   "source": [
    "### Question 3.c: Processing multiple sequences\n",
    "Write a function called ```AAtypetable``` that takes a list of strings called ```filelist``` and a separate string called ```outputfile```. Each element of ```filelist``` represents the name of a FASTA file containing an aminoacid sequence. For each filename, the function should load the sequence, compute the fraction of aminoacids that are polar, small and/or hydrophobic, and finally output this to the text file specified by ```outputfile``` in TSV (tab-separated values) tabular format. The table should contain, on each line, the name of the input file and then the percentages of polar, small and hydrophobic residues (in that order). Include a comment at the beginning of the file that starts with a ```#``` and specifies the content of each column, as follows (numbers and file names shown here are random):\n",
    "```\n",
    "# Filename     Polar     Small     Hydro\n",
    "Pxxx.fasta     0.52      0.22      0.33\n",
    "Qx3Z.fas       0.47      0.35      0.38\n",
    "...\n",
    "```\n",
    "\n",
    "Include at least two decimal places in your output; do not add any quotes or other spurious characters. Do not worry if the columns do not all look aligned; as long as consecutive values on the same line are separated by a tab, that's fine. If some of the files in ```filelist``` do not exist, contain invalid data or otherwise cause an error, your function should ignore those files and continue. However, the names of those files should be returned by your function in a list. If all files are processed without errors your function should return an empty list.\n"
   ]
  },
  {
   "cell_type": "code",
   "execution_count": 26,
   "metadata": {},
   "outputs": [],
   "source": [
    "# Your code here\n",
    "#Write a function called AAtypetable \n",
    "#Argument is filelist\n",
    "def AAtypetable(filelist, outputfile):\n",
    "    # List for names of fractions for files\n",
    "    fractions_list = []\n",
    "    # List for names of problem files\n",
    "    error_files = []\n",
    "    \n",
    "    for filename in filelist:\n",
    "        try:\n",
    "            \n",
    "            sequence = readAAsequence(filename)\n",
    "            \n",
    "          \n",
    "            fractions = AAtypes(sequence)\n",
    "            fractions_list.append((filename, fractions))\n",
    "        \n",
    "        except Exception as e:\n",
    "            error_files.append(filename)\n",
    "    \n",
    "    \n",
    "    with open(outputfile, 'w') as out:\n",
    "        out.write(\"# Filename\\tPolar\\tSmall\\tHydro\\n\")\n",
    "        for fname, (polar, small, hydro) in fractions_list:\n",
    "            out.write(f\"{fname}\\t{polar:.2f}\\t{small:.2f}\\t{hydro:.2f}\\n\")\n",
    "    \n",
    "    return error_files"
   ]
  },
  {
   "cell_type": "code",
   "execution_count": 27,
   "metadata": {},
   "outputs": [
    {
     "name": "stdout",
     "output_type": "stream",
     "text": [
      "OK\n"
     ]
    }
   ],
   "source": [
    "# Test code\n",
    "import os\n",
    "import os.path\n",
    "for fname in [\"_Ptest123.fas\", \"_Ptest456.fas\"]:\n",
    "    with open(fname, \"wt\") as _OUTF:\n",
    "        _OUTF.write(\"> test\\n\")\n",
    "        _OUTF.write(\"TESTTESTTESTTESTTEST\\n\")\n",
    "_rv=AAtypetable(filelist=['_Ptest123.fas','_Ptest456.fas'], outputfile=\"_table_test789.txt\")\n",
    "_fe=os.path.isfile(\"_table_test789.txt\")\n",
    "assert _fe, \"Cannot find output file - has it been created?\"\n",
    "os.remove(\"_table_test789.txt\")\n",
    "os.remove(\"_Ptest123.fas\")\n",
    "os.remove(\"_Ptest456.fas\")\n",
    "assert type(_rv) is type([]), \"Function should return a list; it returns %r\" % _rv\n",
    "print(\"OK\")"
   ]
  },
  {
   "cell_type": "markdown",
   "metadata": {},
   "source": [
    "# Question 4: Clustering proteins based on aminoacid usage"
   ]
  },
  {
   "cell_type": "markdown",
   "metadata": {},
   "source": [
    "### Question 4.a: Computing the Euclidean distance"
   ]
  },
  {
   "cell_type": "markdown",
   "metadata": {},
   "source": [
    "Write a function called ```distance``` that takes two lists of ```float``` of equal length as its arguments. The function should return the Euclidean distance between the two lists, considered as vectors in a space of dimensionality equal to the length of the lists. That is to say, it should compute the element by element difference between the two lists, square that, sum all the squares and take a square root of the final sum (see the equation [here](https://en.wikipedia.org/wiki/Euclidean_distance#Higher_dimensions)). Your function should raise a ```DimensionalityException``` if the two lists passed are not of the same length, or if they are both empty; otherwise it should return a ```float```."
   ]
  },
  {
   "cell_type": "code",
   "execution_count": 34,
   "metadata": {},
   "outputs": [],
   "source": [
    "# Run this cell to define the exception\n",
    "class DimensionalityException(Exception):\n",
    "    pass"
   ]
  },
  {
   "cell_type": "code",
   "execution_count": 44,
   "metadata": {},
   "outputs": [],
   "source": [
    "# Your code here\n",
    "#Will need to import math for 'sqrt'\n",
    "import math\n",
    "#Write a function called distance\n",
    "#Function is taking two lists as arguments\n",
    "def distance(list1, list2):\n",
    "    \n",
    "    if not list1 and not list2:\n",
    "        raise DimensionalityException(\"The two lists are both empty.\")\n",
    "    if len(list1) != len(list2):\n",
    "        raise DimensionalityException(\"The two lists must be of equal length.\") #raise exception\n",
    "    \n",
    "    squared_differences = [(x - y) ** 2 for x, y in zip(list1, list2)]\n",
    "    \n",
    "    # Sum all the squares and then square root to get the Euclidean distance\n",
    "    euclidean_distance = math.sqrt(sum(squared_differences))\n",
    "    \n",
    "    return euclidean_distance"
   ]
  },
  {
   "cell_type": "code",
   "execution_count": 45,
   "metadata": {},
   "outputs": [
    {
     "name": "stdout",
     "output_type": "stream",
     "text": [
      "OK\n"
     ]
    }
   ],
   "source": [
    "# Test code\n",
    "_dist=distance([1.0, 2.0], [1.5, -1.0])\n",
    "assert type(_dist) is type(0.0), \"Return value is not a float: %r\" % _dist\n",
    "print(\"OK\")"
   ]
  },
  {
   "cell_type": "markdown",
   "metadata": {},
   "source": [
    "### Question 4.b: Reading data in tabular format\n",
    "\n",
    "Write a function called ```readTable``` that takes a string called ```filename``` as its argument. The function should read from the file specified in the argument a TSV table formatted as described at the end of Question 3 (you do not necessarily have to answer Question 3 in order to do this; you can create one such table containing arbitrary values using an editor). The function should return a dictionary with the filenames as its keys; the value associated to each key should be a list of floats, containing in order the percentages of polar, small and hydrophobic AAs, as listed in the table. So for instance, if the argument file contains the table used as an example in Question 3, ```readTable``` should return a dictionary containing at least the following items: \n",
    "```\n",
    "{ \"Pxxx.fasta\": [0.52, 0.22, 0.33],  \"Qx3Z.fas\": [0.47, 0.35, 0.38],\n",
    "... }\n",
    "```\n"
   ]
  },
  {
   "cell_type": "code",
   "execution_count": 37,
   "metadata": {},
   "outputs": [],
   "source": [
    "# Your code here\n",
    "#Write a function called readTable\n",
    "def readTable(filename):\n",
    "    \n",
    "    table_data = {}\n",
    "\n",
    "    with open(filename, 'r') as file:\n",
    "        next(file)\n",
    "        for line_number, line in enumerate(file, start=2):  # start=2 to account for the skipped header\n",
    "            columns = line.strip().split('\\t')\n",
    "        \n",
    "            if len(columns) != 4:\n",
    "                raise ValueError(f\"Line {line_number} has an incorrect number of columns: {line.strip()}\")\n",
    "\n",
    "            table_data[columns[0]] = [float(columns[1]), float(columns[2]), float(columns[3])]\n",
    "\n",
    "    return table_data"
   ]
  },
  {
   "cell_type": "code",
   "execution_count": 38,
   "metadata": {},
   "outputs": [
    {
     "name": "stdout",
     "output_type": "stream",
     "text": [
      "OK\n"
     ]
    }
   ],
   "source": [
    "# Test code\n",
    "import os\n",
    "with open(\"_testTable123.tsv\", \"wt\") as OUTF:\n",
    "    OUTF.write(\"# Filename\\tPolar\\tSmall\\tHydro\\n\")\n",
    "    OUTF.write(\"Pxxx.fas\\t0.52\\t0.22\\t0.33\\n\")\n",
    "    OUTF.write(\"Pyyy.fas\\t0.47\\t0.35\\t0.38\\n\")\n",
    "_tab=readTable(filename=\"_testTable123.tsv\")\n",
    "assert type(_tab) is type({}), \"Return value is not a dict: %r\" % _tab\n",
    "assert (\"Pxxx.fas\" in _tab) and (\"Pyyy.fas\" in _tab), \"Return dict missing keys\"\n",
    "os.remove(\"_testTable123.tsv\")\n",
    "print(\"OK\")"
   ]
  },
  {
   "cell_type": "markdown",
   "metadata": {},
   "source": [
    "### Question 4.c: Computing a distance matrix\n",
    "\n",
    "Write a function called ```distanceMatrix``` that takes as its argument two strings called ```inputfile``` and ```outputfile```, used to pass the names of the input and output file. The function should read from the input file a TSV table created as specified at the end of Question 3 (again, you do not necessarily have to answer Question 3 in order to do this; you can create a table with made-up data using an editor). Suppose data for N proteins are read. Your function should then create an output TSV file containing a matrix of size NxN (plus one row and one column for labels). The rows and columns of the matrix should correspond to individual protein file names, so that each matrix entry corresponds to a pair of proteins, say Pxxx and Pyyy. Such entry should contain the distance between the ```[polar, small, hydro]``` lists (considered as 3 dimensional vectors) corresponding to Pxxx and Pyyy. If done correctly, your matrix should be symmetric and have zeroes on the diagonal. Format the matrix with row and column labels as in the following 3-protein example (that contains random numbers and filenames):\n",
    "```\n",
    "# Filename      Pxxx.fas  Pyyy.fas  Pzzz.fas\n",
    "Pxxx.fas        0.00      2.34      1.51\n",
    "Pyyy.fas        2.34      0.00      1.82 \n",
    "Pzzz.fas        1.51      1.82      0.00\n",
    "\n",
    "```\n",
    "The exact alignment is not important, as long as the data are separated by tabs and the first line starts with a hash (```#```). Likewise, the order in which the proteins are listed is not important, provided the same order is used along the rows and along the columns. Do not add any quotes or other spurious characters. Your function should not return any value."
   ]
  },
  {
   "cell_type": "code",
   "execution_count": 42,
   "metadata": {},
   "outputs": [],
   "source": [
    "# Your code here\n",
    "# Write a function called distance Matrix\n",
    "def distanceMatrix(inputfile, outputfile):\n",
    "    \n",
    "    data = readTable(inputfile)\n",
    "\n",
    "    filenames = list(data.keys())\n",
    "\n",
    "    matrix = {name: {other_name: 0.0 for other_name in filenames} for name in filenames}\n",
    "\n",
    "    for i, name1 in enumerate(filenames):\n",
    "        for j, name2 in enumerate(filenames):\n",
    "            if i < j:  \n",
    "                dist = distance(data[name1], data[name2])\n",
    "                matrix[name1][name2] = dist\n",
    "                matrix[name2][name1] = dist \n",
    "\n",
    "    with open(outputfile, 'w') as f:\n",
    "        # Write header\n",
    "        f.write('# Filename\\t' + '\\t'.join(filenames) + '\\n')\n",
    "\n",
    "        for name in filenames:\n",
    "            f.write(name + '\\t' + '\\t'.join(f'{matrix[name][other_name]:.2f}' for other_name in filenames) + '\\n')"
   ]
  },
  {
   "cell_type": "code",
   "execution_count": 43,
   "metadata": {},
   "outputs": [
    {
     "name": "stdout",
     "output_type": "stream",
     "text": [
      "OK\n"
     ]
    }
   ],
   "source": [
    "# Test code\n",
    "import os\n",
    "import os.path\n",
    "with open(\"_testTable123.tsv\", \"wt\") as OUTF:\n",
    "    OUTF.write(\"# Filename\\tPolar\\tSmall\\tHydro\\n\")\n",
    "    OUTF.write(\"Pxxx.fas\\t0.52\\t0.22\\t0.33\\n\")\n",
    "    OUTF.write(\"Pyyy.fas\\t0.47\\t0.35\\t0.38\\n\")\n",
    "_rv=distanceMatrix(inputfile=\"_testTable123.tsv\", outputfile=\"_testTable123out.tsv\")\n",
    "_fe=os.path.isfile(\"_testTable123out.tsv\")\n",
    "assert _fe, \"Cannot find output file - has it been created?\"\n",
    "with open(\"_testTable123out.tsv\", \"rt\") as INF:\n",
    "    _fl=INF.readline()\n",
    "assert _fl[0]=='#', \"First line of output file does not start with a #\"\n",
    "os.remove(\"_testTable123.tsv\")\n",
    "os.remove(\"_testTable123out.tsv\")\n",
    "assert type(_rv) is type(None),\"Function should not return any value; it returns %r\" % _rv\n",
    "print(\"OK\")"
   ]
  },
  {
   "cell_type": "markdown",
   "metadata": {},
   "source": [
    "### An application of this type of analysis"
   ]
  },
  {
   "cell_type": "markdown",
   "metadata": {},
   "source": [
    "Now that you have this code running, try downloading a few FASTA sequences for the [antifreeze proteins](https://pdb101.rcsb.org/motm/120) of cold water fish. Then download the sequences of other families of related proteins (eg Hemoglobin, Insulin and P53) from other species. Process these sequences according to Questions 3 and 4. Have a look at the resulting distance matrix - is any of these groups of proteins characterised by a distinctive pattern of usage of aminoacids? NOTE: no marks are assigned for this section."
   ]
  },
  {
   "cell_type": "markdown",
   "metadata": {
    "collapsed": true,
    "jupyter": {
     "outputs_hidden": true
    }
   },
   "source": [
    "## Examiners\n",
    "\n",
    "Dr Fabrizio Smeraldi *(f.smeraldi@qmul.ac.uk)*; Prof Conrad Bessant *(c.bessant@qmul.ac.uk)*"
   ]
  }
 ],
 "metadata": {
  "kernelspec": {
   "display_name": "Python 3 (ipykernel)",
   "language": "python",
   "name": "python3"
  },
  "language_info": {
   "codemirror_mode": {
    "name": "ipython",
    "version": 3
   },
   "file_extension": ".py",
   "mimetype": "text/x-python",
   "name": "python",
   "nbconvert_exporter": "python",
   "pygments_lexer": "ipython3",
   "version": "3.11.5"
  }
 },
 "nbformat": 4,
 "nbformat_minor": 4
}
